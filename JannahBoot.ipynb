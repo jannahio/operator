{
 "cells": [
  {
   "cell_type": "markdown",
   "id": "20e8ee53",
   "metadata": {},
   "source": []
  },
  {
   "cell_type": "markdown",
   "id": "40ab5b78",
   "metadata": {},
   "source": [
    "Jannah Developer Workflow"
   ]
  },
  {
   "cell_type": "markdown",
   "id": "9208b0f8",
   "metadata": {},
   "source": [
    "Make Credentials"
   ]
  },
  {
   "cell_type": "code",
   "execution_count": null,
   "id": "31869099",
   "metadata": {},
   "outputs": [],
   "source": [
    "!make jannah-boot-credentials"
   ]
  },
  {
   "cell_type": "markdown",
   "id": "e1bbd24c",
   "metadata": {},
   "source": [
    "Make 'full' Deployment On Docker Desktop For Development"
   ]
  },
  {
   "cell_type": "code",
   "execution_count": null,
   "id": "ae67ac15",
   "metadata": {},
   "outputs": [],
   "source": [
    "!make deploy-to-docker-desktop-full-ubuntu-dev-mode"
   ]
  },
  {
   "cell_type": "markdown",
   "id": "59c5f765",
   "metadata": {},
   "source": [
    "Make 'local' Deployment On Docker Desktop For Development"
   ]
  },
  {
   "cell_type": "code",
   "execution_count": null,
   "id": "a83b2f7f",
   "metadata": {},
   "outputs": [],
   "source": [
    "!make docker-desktop-local-mode"
   ]
  },
  {
   "cell_type": "markdown",
   "id": "9fa99d6f",
   "metadata": {},
   "source": [
    "Make 'standalone' Deployment On Docker Desktop For Development"
   ]
  },
  {
   "cell_type": "code",
   "execution_count": null,
   "id": "a107cd1e",
   "metadata": {},
   "outputs": [],
   "source": [
    "!make docker-desktop-standalone-mode"
   ]
  },
  {
   "cell_type": "markdown",
   "id": "dee37655",
   "metadata": {},
   "source": [
    "Make 'full' Deployment On Kind Cluster For Development"
   ]
  },
  {
   "cell_type": "code",
   "execution_count": null,
   "id": "e935d7a3",
   "metadata": {},
   "outputs": [],
   "source": [
    "!make kind-full-mode"
   ]
  },
  {
   "cell_type": "markdown",
   "id": "85d65ce9",
   "metadata": {},
   "source": [
    "Make 'local' Deployment On Kind Cluster For Development"
   ]
  },
  {
   "cell_type": "code",
   "execution_count": null,
   "id": "82e88370",
   "metadata": {},
   "outputs": [],
   "source": [
    "!make kind-local-mode"
   ]
  },
  {
   "cell_type": "markdown",
   "id": "584a7c26",
   "metadata": {},
   "source": [
    "Make 'standalone' Deployment On Kind Cluster For Development"
   ]
  },
  {
   "cell_type": "code",
   "execution_count": null,
   "id": "bb76b1d2",
   "metadata": {},
   "outputs": [],
   "source": [
    "!make kind-standalone-mode"
   ]
  },
  {
   "cell_type": "markdown",
   "id": "6561be8f",
   "metadata": {},
   "source": [
    "Make Deployment Matrix for Docker Desktop"
   ]
  },
  {
   "cell_type": "code",
   "execution_count": null,
   "id": "cd4cc94f",
   "metadata": {},
   "outputs": [],
   "source": [
    "!make docker-desktop-matrix"
   ]
  },
  {
   "cell_type": "markdown",
   "id": "d7d67f2a",
   "metadata": {},
   "source": [
    "Make Deployment Matrix for Kind Cluster"
   ]
  },
  {
   "cell_type": "code",
   "execution_count": null,
   "id": "a1228c61",
   "metadata": {},
   "outputs": [],
   "source": [
    "!make kind-matrix"
   ]
  },
  {
   "cell_type": "markdown",
   "id": "8c91cfb0",
   "metadata": {},
   "source": [
    "Make All Deployment Matrices"
   ]
  },
  {
   "cell_type": "code",
   "execution_count": null,
   "id": "51d40c3a",
   "metadata": {},
   "outputs": [],
   "source": [
    "!make jannah-deployments"
   ]
  },
  {
   "cell_type": "markdown",
   "id": "9668fa87",
   "metadata": {},
   "source": [
    "Dev Debug"
   ]
  },
  {
   "cell_type": "code",
   "execution_count": null,
   "id": "991ecf02",
   "metadata": {},
   "outputs": [],
   "source": [
    "#!export KUBECONFIG=/Users/osmanjalloh/IdeaProjects/debug/operator/tmp/EPHEMERAL/kind/\\$\\{MOLECULE_EPHEMERAL_DIRECTORY\\}\\/kind/config"
   ]
  },
  {
   "cell_type": "code",
   "execution_count": null,
   "id": "aa24ed6f",
   "metadata": {},
   "outputs": [],
   "source": [
    "#!KUBECONFIG=KUBECONFIG_LOCAL kubectl get pods -A"
   ]
  },
  {
   "cell_type": "code",
   "execution_count": null,
   "id": "89da20b6",
   "metadata": {},
   "outputs": [],
   "source": [
    "#!KUBECONFIG=KUBECONFIG_LOCAL helm install  jannah-operator ./jannah-operator"
   ]
  },
  {
   "cell_type": "code",
   "execution_count": null,
   "id": "4421c5e3",
   "metadata": {},
   "outputs": [],
   "source": [
    "#!make install"
   ]
  },
  {
   "cell_type": "code",
   "execution_count": null,
   "id": "6b0e4904",
   "metadata": {},
   "outputs": [],
   "source": [
    "#!make uninstall"
   ]
  }
 ],
 "metadata": {
  "kernelspec": {
   "display_name": "Python 3 (ipykernel)",
   "language": "python",
   "name": "python3"
  },
  "language_info": {
   "codemirror_mode": {
    "name": "ipython",
    "version": 3
   },
   "file_extension": ".py",
   "mimetype": "text/x-python",
   "name": "python",
   "nbconvert_exporter": "python",
   "pygments_lexer": "ipython3",
   "version": "3.11.3"
  }
 },
 "nbformat": 4,
 "nbformat_minor": 5
}
