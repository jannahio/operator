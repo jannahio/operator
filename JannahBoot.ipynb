{
 "cells": [
  {
   "cell_type": "markdown",
   "id": "20e8ee53",
   "metadata": {},
   "source": []
  },
  {
   "cell_type": "markdown",
   "id": "40ab5b78",
   "metadata": {},
   "source": [
    "Jannah Developer Workflow"
   ]
  },
  {
   "cell_type": "markdown",
   "id": "9208b0f8",
   "metadata": {},
   "source": [
    "Run Kind Cluster Matrix"
   ]
  },
  {
   "cell_type": "code",
   "execution_count": null,
   "id": "31869099",
   "metadata": {},
   "outputs": [],
   "source": [
    "!make deploy-completed-kind-matrix"
   ]
  },
  {
   "cell_type": "markdown",
   "id": "e1bbd24c",
   "metadata": {},
   "source": [
    "Run Docker Desktop Matrix"
   ]
  },
  {
   "cell_type": "code",
   "execution_count": null,
   "id": "ae67ac15",
   "metadata": {},
   "outputs": [],
   "source": [
    "!make deploy-completed-docker-desktop-matrix"
   ]
  }
 ],
 "metadata": {
  "kernelspec": {
   "display_name": "Python 3 (ipykernel)",
   "language": "python",
   "name": "python3"
  },
  "language_info": {
   "codemirror_mode": {
    "name": "ipython",
    "version": 3
   },
   "file_extension": ".py",
   "mimetype": "text/x-python",
   "name": "python",
   "nbconvert_exporter": "python",
   "pygments_lexer": "ipython3",
   "version": "3.11.3"
  }
 },
 "nbformat": 4,
 "nbformat_minor": 5
}
