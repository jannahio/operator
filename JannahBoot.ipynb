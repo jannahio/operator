{
 "cells": [
  {
   "cell_type": "markdown",
   "id": "20e8ee53",
   "metadata": {},
   "source": []
  },
  {
   "cell_type": "markdown",
   "id": "40ab5b78",
   "metadata": {},
   "source": [
    "Jannah Developer Workflow"
   ]
  },
  {
   "cell_type": "markdown",
   "id": "9208b0f8",
   "metadata": {},
   "source": [
    "Run Kind Cluster Matrix"
   ]
  },
  {
   "cell_type": "code",
   "execution_count": 35,
   "id": "31869099",
   "metadata": {},
   "outputs": [
    {
     "name": "stdout",
     "output_type": "stream",
     "text": [
      "\n",
      "\u001b[1m[\u001b[0m\u001b[34;49mnotice\u001b[0m\u001b[1;39;49m]\u001b[0m\u001b[39;49m A new release of pip is available: \u001b[0m\u001b[31;49m23.2.1\u001b[0m\u001b[39;49m -> \u001b[0m\u001b[32;49m23.3.1\u001b[0m\n",
      "\u001b[1m[\u001b[0m\u001b[34;49mnotice\u001b[0m\u001b[1;39;49m]\u001b[0m\u001b[39;49m To update, run: \u001b[0m\u001b[32;49mpip install --upgrade pip\u001b[0m\n",
      "[WARNING]: Unable to parse /Users/osmanjalloh/working/operator/inventory as an\n",
      "inventory source\n",
      "[WARNING]: No inventory was parsed, only implicit localhost is available\n",
      "[WARNING]: provided hosts list is empty, only localhost is available. Note that\n",
      "the implicit localhost does not match 'all'\n",
      "\u001b[34mINFO    \u001b[0m default scenario test matrix: \n",
      "\u001b[34mINFO    \u001b[0m Performing prerun with \u001b[33mrole_name_check\u001b[0m=\u001b[1;36m0\u001b[0m\u001b[33m...\u001b[0m\n",
      "\u001b[34mINFO    \u001b[0m Set \u001b[33mANSIBLE_LIBRARY\u001b[0m=\u001b[35m/Users/osmanjalloh/.cache/ansible-compat/7aa89a/\u001b[0m\u001b[95mmodules\u001b[0m:\u001b[35m/Users/osmanjalloh/.ansible/plugins/\u001b[0m\u001b[95mmodules\u001b[0m:\u001b[35m/usr/share/ansible/plugins/\u001b[0m\u001b[95mmodules\u001b[0m\n",
      "\u001b[34mINFO    \u001b[0m Set \u001b[33mANSIBLE_COLLECTIONS_PATH\u001b[0m=\u001b[35m/Users/osmanjalloh/.cache/ansible-compat/7aa89a/\u001b[0m\u001b[95mcollections\u001b[0m:\u001b[35m/Users/osmanjalloh/.ansible/\u001b[0m\u001b[95mcollections\u001b[0m:\u001b[35m/usr/share/ansible/\u001b[0m\u001b[95mcollections\u001b[0m\n",
      "\u001b[34mINFO    \u001b[0m Set \u001b[33mANSIBLE_ROLES_PATH\u001b[0m=\u001b[35m/Users/osmanjalloh/.cache/ansible-compat/7aa89a/\u001b[0m\u001b[95mroles\u001b[0m:\u001b[35m/Users/osmanjalloh/.ansible/\u001b[0m\u001b[95mroles\u001b[0m:\u001b[35m/usr/share/ansible/\u001b[0m\u001b[95mroles\u001b[0m:\u001b[35m/etc/ansible/\u001b[0m\u001b[95mroles\u001b[0m\n",
      "\u001b[34mINFO    \u001b[0m Using \u001b[35m/Users/osmanjalloh/.cache/ansible-compat/7aa89a/roles/\u001b[0m\u001b[95mjannahio.bootstrap\u001b[0m symlink to current repository in order to enable Ansible to find the role using its expected full name.\n",
      "\u001b[34mINFO    \u001b[0m Removing \u001b[35m/Users/osmanjalloh/.cache/molecule/jannahio.end2end/\u001b[0m\u001b[95mdefault\u001b[0m\n",
      "\u001b[34mINFO    \u001b[0m default scenario test matrix: dependency, cleanup, destroy\n",
      "\u001b[34mINFO    \u001b[0m Performing prerun with \u001b[33mrole_name_check\u001b[0m=\u001b[1;36m0\u001b[0m\u001b[33m...\u001b[0m\n",
      "\u001b[34mINFO    \u001b[0m Set \u001b[33mANSIBLE_LIBRARY\u001b[0m=\u001b[35m/Users/osmanjalloh/.cache/ansible-compat/7aa89a/\u001b[0m\u001b[95mmodules\u001b[0m:\u001b[35m/Users/osmanjalloh/.ansible/plugins/\u001b[0m\u001b[95mmodules\u001b[0m:\u001b[35m/usr/share/ansible/plugins/\u001b[0m\u001b[95mmodules\u001b[0m\n",
      "\u001b[34mINFO    \u001b[0m Set \u001b[33mANSIBLE_COLLECTIONS_PATH\u001b[0m=\u001b[35m/Users/osmanjalloh/.cache/ansible-compat/7aa89a/\u001b[0m\u001b[95mcollections\u001b[0m:\u001b[35m/Users/osmanjalloh/.ansible/\u001b[0m\u001b[95mcollections\u001b[0m:\u001b[35m/usr/share/ansible/\u001b[0m\u001b[95mcollections\u001b[0m\n",
      "\u001b[34mINFO    \u001b[0m Set \u001b[33mANSIBLE_ROLES_PATH\u001b[0m=\u001b[35m/Users/osmanjalloh/.cache/ansible-compat/7aa89a/\u001b[0m\u001b[95mroles\u001b[0m:\u001b[35m/Users/osmanjalloh/.ansible/\u001b[0m\u001b[95mroles\u001b[0m:\u001b[35m/usr/share/ansible/\u001b[0m\u001b[95mroles\u001b[0m:\u001b[35m/etc/ansible/\u001b[0m\u001b[95mroles\u001b[0m\n",
      "\u001b[34mINFO    \u001b[0m Using \u001b[35m/Users/osmanjalloh/.cache/ansible-compat/7aa89a/roles/\u001b[0m\u001b[95mjannahio.bootstrap\u001b[0m symlink to current repository in order to enable Ansible to find the role using its expected full name.\n",
      "\u001b[34mINFO    \u001b[0m \u001b[2;36mRunning \u001b[0m\u001b[2;32mdefault\u001b[0m\u001b[2;36m > \u001b[0m\u001b[2;32mdependency\u001b[0m\n",
      "\u001b[34mINFO    \u001b[0m Dependency completed successfully.\n",
      "\u001b[34mINFO    \u001b[0m Dependency completed successfully.\n",
      "\u001b[34mINFO    \u001b[0m \u001b[2;36mRunning \u001b[0m\u001b[2;32mdefault\u001b[0m\u001b[2;36m > \u001b[0m\u001b[2;32mcleanup\u001b[0m\n",
      "\u001b[34mINFO    \u001b[0m \u001b[2;36mRunning \u001b[0m\u001b[2;32mdefault\u001b[0m\u001b[2;36m > \u001b[0m\u001b[2;32mdestroy\u001b[0m\n",
      "\u001b[34mINFO    \u001b[0m Pruning extra files from scenario ephemeral directory\n",
      "\u001b[34mINFO    \u001b[0m default scenario test matrix: dependency, create, prepare, converge\n",
      "\u001b[34mINFO    \u001b[0m Performing prerun with \u001b[33mrole_name_check\u001b[0m=\u001b[1;36m0\u001b[0m\u001b[33m...\u001b[0m\n",
      "\u001b[34mINFO    \u001b[0m Set \u001b[33mANSIBLE_LIBRARY\u001b[0m=\u001b[35m/Users/osmanjalloh/.cache/ansible-compat/7aa89a/\u001b[0m\u001b[95mmodules\u001b[0m:\u001b[35m/Users/osmanjalloh/.ansible/plugins/\u001b[0m\u001b[95mmodules\u001b[0m:\u001b[35m/usr/share/ansible/plugins/\u001b[0m\u001b[95mmodules\u001b[0m\n",
      "\u001b[34mINFO    \u001b[0m Set \u001b[33mANSIBLE_COLLECTIONS_PATH\u001b[0m=\u001b[35m/Users/osmanjalloh/.cache/ansible-compat/7aa89a/\u001b[0m\u001b[95mcollections\u001b[0m:\u001b[35m/Users/osmanjalloh/.ansible/\u001b[0m\u001b[95mcollections\u001b[0m:\u001b[35m/usr/share/ansible/\u001b[0m\u001b[95mcollections\u001b[0m\n",
      "\u001b[34mINFO    \u001b[0m Set \u001b[33mANSIBLE_ROLES_PATH\u001b[0m=\u001b[35m/Users/osmanjalloh/.cache/ansible-compat/7aa89a/\u001b[0m\u001b[95mroles\u001b[0m:\u001b[35m/Users/osmanjalloh/.ansible/\u001b[0m\u001b[95mroles\u001b[0m:\u001b[35m/usr/share/ansible/\u001b[0m\u001b[95mroles\u001b[0m:\u001b[35m/etc/ansible/\u001b[0m\u001b[95mroles\u001b[0m\n",
      "\u001b[34mINFO    \u001b[0m Using \u001b[35m/Users/osmanjalloh/.cache/ansible-compat/7aa89a/roles/\u001b[0m\u001b[95mjannahio.bootstrap\u001b[0m symlink to current repository in order to enable Ansible to find the role using its expected full name.\n",
      "\u001b[34mINFO    \u001b[0m \u001b[2;36mRunning \u001b[0m\u001b[2;32mdefault\u001b[0m\u001b[2;36m > \u001b[0m\u001b[2;32mdependency\u001b[0m\n",
      "\u001b[34mINFO    \u001b[0m Dependency completed successfully.\n",
      "\u001b[34mINFO    \u001b[0m Dependency completed successfully.\n",
      "\u001b[34mINFO    \u001b[0m \u001b[2;36mRunning \u001b[0m\u001b[2;32mdefault\u001b[0m\u001b[2;36m > \u001b[0m\u001b[2;32mcreate\u001b[0m\n",
      "\u001b[34mINFO    \u001b[0m \u001b[2;36mRunning \u001b[0m\u001b[2;32mdefault\u001b[0m\u001b[2;36m > \u001b[0m\u001b[2;32mprepare\u001b[0m\n",
      "\u001b[34mINFO    \u001b[0m \u001b[2;36mRunning \u001b[0m\u001b[2;32mdefault\u001b[0m\u001b[2;36m > \u001b[0m\u001b[2;32mconverge\u001b[0m\n",
      "\u001b[34mINFO    \u001b[0m default scenario test matrix: verify\n",
      "\u001b[34mINFO    \u001b[0m Performing prerun with \u001b[33mrole_name_check\u001b[0m=\u001b[1;36m0\u001b[0m\u001b[33m...\u001b[0m\n",
      "\u001b[34mINFO    \u001b[0m Set \u001b[33mANSIBLE_LIBRARY\u001b[0m=\u001b[35m/Users/osmanjalloh/.cache/ansible-compat/7aa89a/\u001b[0m\u001b[95mmodules\u001b[0m:\u001b[35m/Users/osmanjalloh/.ansible/plugins/\u001b[0m\u001b[95mmodules\u001b[0m:\u001b[35m/usr/share/ansible/plugins/\u001b[0m\u001b[95mmodules\u001b[0m\n",
      "\u001b[34mINFO    \u001b[0m Set \u001b[33mANSIBLE_COLLECTIONS_PATH\u001b[0m=\u001b[35m/Users/osmanjalloh/.cache/ansible-compat/7aa89a/\u001b[0m\u001b[95mcollections\u001b[0m:\u001b[35m/Users/osmanjalloh/.ansible/\u001b[0m\u001b[95mcollections\u001b[0m:\u001b[35m/usr/share/ansible/\u001b[0m\u001b[95mcollections\u001b[0m\n",
      "\u001b[34mINFO    \u001b[0m Set \u001b[33mANSIBLE_ROLES_PATH\u001b[0m=\u001b[35m/Users/osmanjalloh/.cache/ansible-compat/7aa89a/\u001b[0m\u001b[95mroles\u001b[0m:\u001b[35m/Users/osmanjalloh/.ansible/\u001b[0m\u001b[95mroles\u001b[0m:\u001b[35m/usr/share/ansible/\u001b[0m\u001b[95mroles\u001b[0m:\u001b[35m/etc/ansible/\u001b[0m\u001b[95mroles\u001b[0m\n",
      "\u001b[34mINFO    \u001b[0m Using \u001b[35m/Users/osmanjalloh/.cache/ansible-compat/7aa89a/roles/\u001b[0m\u001b[95mjannahio.bootstrap\u001b[0m symlink to current repository in order to enable Ansible to find the role using its expected full name.\n",
      "\u001b[34mINFO    \u001b[0m \u001b[2;36mRunning \u001b[0m\u001b[2;32mdefault\u001b[0m\u001b[2;36m > \u001b[0m\u001b[2;32mverify\u001b[0m\n",
      "\u001b[34mINFO    \u001b[0m Running Ansible Verifier\n",
      "\u001b[34mINFO    \u001b[0m Verifier completed successfully.\n"
     ]
    }
   ],
   "source": [
    "!make deploy-to-kind-cluster-full-ubuntu-dev-mode >> ~/jannah-operator/deploy-to-kind-cluster-full-ubuntu-dev-mode.11-08-2023.run-3.log"
   ]
  },
  {
   "cell_type": "code",
   "execution_count": null,
   "id": "38e29a30",
   "metadata": {},
   "outputs": [],
   "source": [
    "!make deploy-to-kind-cluster-local-ubuntu-dev-mode >> ~/jannah-operator/deploy-to-kind-cluster-local-ubuntu-dev-mode.11-08-2023.run-2.log "
   ]
  },
  {
   "cell_type": "code",
   "execution_count": null,
   "id": "1f29314d",
   "metadata": {},
   "outputs": [],
   "source": [
    "!make deploy-to-kind-cluster-standalone-ubuntu-dev-mode >> ~/jannah-operator/deploy-to-kind-cluster-standalone-ubuntu-dev-mode.11-08-2023.run-2.log "
   ]
  },
  {
   "cell_type": "markdown",
   "id": "e1bbd24c",
   "metadata": {},
   "source": [
    "Run Docker Desktop Matrix"
   ]
  },
  {
   "cell_type": "code",
   "execution_count": null,
   "id": "ae67ac15",
   "metadata": {},
   "outputs": [],
   "source": [
    "!make deploy-to-docker-desktop-full-ubuntu-dev-mode >> ~/jannah-operator/deploy-to-docker-desktop-full-ubuntu-dev-mode.11-08-2023.run-2.log "
   ]
  },
  {
   "cell_type": "code",
   "execution_count": null,
   "id": "7110a720",
   "metadata": {},
   "outputs": [],
   "source": [
    "!make deploy-to-docker-desktop-local-ubuntu-dev-mode >> ~/jannah-operator/deploy-to-docker-desktop-local-ubuntu-dev-mode.11-08-2023.run-2.log "
   ]
  },
  {
   "cell_type": "code",
   "execution_count": null,
   "id": "6f7b0454",
   "metadata": {},
   "outputs": [],
   "source": [
    "!make deploy-to-docker-desktop-standalone-ubuntu-dev-mode >> ~/jannah-operator/deploy-to-docker-desktop-standalone-ubuntu-dev-mode.11-08-2023.run-2.log "
   ]
  },
  {
   "cell_type": "code",
   "execution_count": null,
   "id": "4a9559d7",
   "metadata": {},
   "outputs": [],
   "source": [
    "!make jannah-deployment-with-ansible >> ~/jannah-operator/deployment-with-ansible-to-docker-desktop-standalone-ubuntu-dev-mode.11-08-2023.run-2.log"
   ]
  },
  {
   "cell_type": "code",
   "execution_count": null,
   "id": "dcd3ac04",
   "metadata": {},
   "outputs": [],
   "source": [
    "!pip install web3"
   ]
  },
  {
   "cell_type": "code",
   "execution_count": null,
   "id": "e7607b49",
   "metadata": {},
   "outputs": [],
   "source": [
    "!pip install \"web3[tester]\""
   ]
  },
  {
   "cell_type": "code",
   "execution_count": null,
   "id": "535c215e",
   "metadata": {},
   "outputs": [],
   "source": [
    "from web3 import Web3"
   ]
  },
  {
   "cell_type": "code",
   "execution_count": null,
   "id": "d88edc0f",
   "metadata": {},
   "outputs": [],
   "source": [
    "Web3.to_wei(1, 'ether')"
   ]
  },
  {
   "cell_type": "code",
   "execution_count": null,
   "id": "4fce5443",
   "metadata": {},
   "outputs": [],
   "source": [
    "Web3.from_wei(500000000, 'gwei')"
   ]
  },
  {
   "cell_type": "code",
   "execution_count": null,
   "id": "af7cfe90",
   "metadata": {},
   "outputs": [],
   "source": [
    "w3 = Web3(Web3.EthereumTesterProvider())"
   ]
  },
  {
   "cell_type": "code",
   "execution_count": null,
   "id": "d6cc12bb",
   "metadata": {},
   "outputs": [],
   "source": [
    "w3.is_connected()"
   ]
  },
  {
   "cell_type": "code",
   "execution_count": null,
   "id": "922a2494",
   "metadata": {},
   "outputs": [],
   "source": [
    "w3.eth.accounts"
   ]
  },
  {
   "cell_type": "code",
   "execution_count": null,
   "id": "511fa11a",
   "metadata": {},
   "outputs": [],
   "source": [
    "w3.eth.get_balance(w3.eth.accounts[0])"
   ]
  },
  {
   "cell_type": "code",
   "execution_count": null,
   "id": "ab43bedc",
   "metadata": {},
   "outputs": [],
   "source": [
    "w3.from_wei(w3.eth.get_balance(w3.eth.accounts[0]), 'ether')"
   ]
  },
  {
   "cell_type": "code",
   "execution_count": null,
   "id": "c6d0d01a",
   "metadata": {},
   "outputs": [],
   "source": [
    "w3.eth.get_block('latest')"
   ]
  },
  {
   "cell_type": "code",
   "execution_count": null,
   "id": "87a4b812",
   "metadata": {},
   "outputs": [],
   "source": [
    "tx_hash = w3.eth.send_transaction({\n",
    "   'from': w3.eth.accounts[0],\n",
    "   'to': w3.eth.accounts[1],\n",
    "   'value': w3.to_wei(3, 'ether')\n",
    "})"
   ]
  },
  {
   "cell_type": "code",
   "execution_count": null,
   "id": "d9806a1d",
   "metadata": {},
   "outputs": [],
   "source": [
    "tx_hash"
   ]
  },
  {
   "cell_type": "code",
   "execution_count": null,
   "id": "319b6eac",
   "metadata": {},
   "outputs": [],
   "source": [
    "w3.eth.get_transaction(tx_hash)"
   ]
  },
  {
   "cell_type": "code",
   "execution_count": null,
   "id": "9c512e4d",
   "metadata": {},
   "outputs": [],
   "source": [
    "w3.eth.get_balance(w3.eth.accounts[0])"
   ]
  },
  {
   "cell_type": "code",
   "execution_count": null,
   "id": "90ccc8cb",
   "metadata": {},
   "outputs": [],
   "source": [
    "w3.eth.get_balance(w3.eth.accounts[1])"
   ]
  }
 ],
 "metadata": {
  "kernelspec": {
   "display_name": "Python 3 (ipykernel)",
   "language": "python",
   "name": "python3"
  },
  "language_info": {
   "codemirror_mode": {
    "name": "ipython",
    "version": 3
   },
   "file_extension": ".py",
   "mimetype": "text/x-python",
   "name": "python",
   "nbconvert_exporter": "python",
   "pygments_lexer": "ipython3",
   "version": "3.11.4"
  }
 },
 "nbformat": 4,
 "nbformat_minor": 5
}
