{
 "cells": [
  {
   "cell_type": "markdown",
   "id": "20e8ee53",
   "metadata": {},
   "source": []
  },
  {
   "cell_type": "markdown",
   "id": "40ab5b78",
   "metadata": {},
   "source": [
    "Jannah Developer Workflow"
   ]
  },
  {
   "cell_type": "markdown",
   "id": "9208b0f8",
   "metadata": {},
   "source": [
    "Run Kind Cluster Matrix"
   ]
  },
  {
   "cell_type": "code",
   "execution_count": null,
   "id": "31869099",
   "metadata": {},
   "outputs": [],
   "source": [
    "!make deploy-to-kind-cluster-full-ubuntu-dev-mode >> ~/jannah-operator/deploy-to-kind-cluster-full-ubuntu-dev-mode.11-18-2023.run-1.log"
   ]
  },
  {
   "cell_type": "code",
   "execution_count": null,
   "id": "38e29a30",
   "metadata": {},
   "outputs": [],
   "source": [
    "!make deploy-to-kind-cluster-local-ubuntu-dev-mode >> ~/jannah-operator/deploy-to-kind-cluster-local-ubuntu-dev-mode.11-18-2023.run-1.log "
   ]
  },
  {
   "cell_type": "code",
   "execution_count": null,
   "id": "1f29314d",
   "metadata": {},
   "outputs": [],
   "source": [
    "!make deploy-to-kind-cluster-standalone-ubuntu-dev-mode >> ~/jannah-operator/deploy-to-kind-cluster-standalone-ubuntu-dev-mode.11-18-2023.run-1.log "
   ]
  },
  {
   "cell_type": "markdown",
   "id": "e1bbd24c",
   "metadata": {},
   "source": [
    "Run Docker Desktop Matrix"
   ]
  },
  {
   "cell_type": "code",
   "execution_count": null,
   "id": "ae67ac15",
   "metadata": {},
   "outputs": [],
   "source": [
    "!make deploy-to-docker-desktop-full-ubuntu-dev-mode >> ~/jannah-operator/deploy-to-docker-desktop-full-ubuntu-dev-mode.11-18-2023.run-1.log "
   ]
  },
  {
   "cell_type": "code",
   "execution_count": null,
   "id": "7110a720",
   "metadata": {},
   "outputs": [],
   "source": [
    "!make deploy-to-docker-desktop-local-ubuntu-dev-mode >> ~/jannah-operator/deploy-to-docker-desktop-local-ubuntu-dev-mode.11-18-2023.run-1.log "
   ]
  },
  {
   "cell_type": "code",
   "execution_count": null,
   "id": "6f7b0454",
   "metadata": {},
   "outputs": [],
   "source": [
    "!make deploy-to-docker-desktop-standalone-ubuntu-dev-mode >> ~/jannah-operator/deploy-to-docker-desktop-standalone-ubuntu-dev-mode.11-18-2023.run-1.log "
   ]
  },
  {
   "cell_type": "code",
   "execution_count": null,
   "id": "4a9559d7",
   "metadata": {},
   "outputs": [],
   "source": [
    "!make jannah-deployment-with-ansible >> ~/jannah-operator/deployment-with-ansible-to-docker-desktop-standalone-ubuntu-dev-mode.11-18-2023.run-1.log"
   ]
  },
  {
   "cell_type": "code",
   "execution_count": null,
   "metadata": {},
   "outputs": [],
   "source": [
    "!make jannah-deployments >> ~/jannah-operator/jannah-deployments.11-18-2023.run-1.log"
   ]
  }
 ],
 "metadata": {
  "kernelspec": {
   "display_name": "Python 3 (ipykernel)",
   "language": "python",
   "name": "python3"
  },
  "language_info": {
   "codemirror_mode": {
    "name": "ipython",
    "version": 3
   },
   "file_extension": ".py",
   "mimetype": "text/x-python",
   "name": "python",
   "nbconvert_exporter": "python",
   "pygments_lexer": "ipython3",
   "version": "3.11.6"
  }
 },
 "nbformat": 4,
 "nbformat_minor": 5
}
