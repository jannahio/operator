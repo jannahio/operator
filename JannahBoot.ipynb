{
 "cells": [
  {
   "cell_type": "markdown",
   "id": "20e8ee53",
   "metadata": {},
   "source": []
  },
  {
   "cell_type": "markdown",
   "id": "40ab5b78",
   "metadata": {},
   "source": [
    "Jannah Developer Workflow"
   ]
  },
  {
   "cell_type": "markdown",
   "id": "9208b0f8",
   "metadata": {},
   "source": [
    "Run Kind Cluster Matrix"
   ]
  },
  {
   "cell_type": "code",
   "execution_count": 6,
   "id": "31869099",
   "metadata": {},
   "outputs": [
    {
     "name": "stdout",
     "output_type": "stream",
     "text": [
      "\n",
      "\u001b[1m[\u001b[0m\u001b[34;49mnotice\u001b[0m\u001b[1;39;49m]\u001b[0m\u001b[39;49m A new release of pip is available: \u001b[0m\u001b[31;49m23.2.1\u001b[0m\u001b[39;49m -> \u001b[0m\u001b[32;49m23.3.1\u001b[0m\n",
      "\u001b[1m[\u001b[0m\u001b[34;49mnotice\u001b[0m\u001b[1;39;49m]\u001b[0m\u001b[39;49m To update, run: \u001b[0m\u001b[32;49mpip install --upgrade pip\u001b[0m\n",
      "[WARNING]: Unable to parse\n",
      "/Users/osmanjalloh/IdeaProjects/debug/operator/inventory as an inventory source\n",
      "[WARNING]: No inventory was parsed, only implicit localhost is available\n",
      "[WARNING]: provided hosts list is empty, only localhost is available. Note that\n",
      "the implicit localhost does not match 'all'\n",
      "\u001b[34mINFO    \u001b[0m default scenario test matrix: \n",
      "\u001b[34mINFO    \u001b[0m Performing prerun with \u001b[33mrole_name_check\u001b[0m=\u001b[1;36m0\u001b[0m\u001b[33m...\u001b[0m\n",
      "\u001b[34mINFO    \u001b[0m Set \u001b[33mANSIBLE_LIBRARY\u001b[0m=\u001b[35m/Users/osmanjalloh/.cache/ansible-compat/7aa89a/\u001b[0m\u001b[95mmodules\u001b[0m:\u001b[35m/Users/osmanjalloh/.ansible/plugins/\u001b[0m\u001b[95mmodules\u001b[0m:\u001b[35m/usr/share/ansible/plugins/\u001b[0m\u001b[95mmodules\u001b[0m\n",
      "\u001b[34mINFO    \u001b[0m Set \u001b[33mANSIBLE_COLLECTIONS_PATH\u001b[0m=\u001b[35m/Users/osmanjalloh/.cache/ansible-compat/7aa89a/\u001b[0m\u001b[95mcollections\u001b[0m:\u001b[35m/Users/osmanjalloh/.ansible/\u001b[0m\u001b[95mcollections\u001b[0m:\u001b[35m/usr/share/ansible/\u001b[0m\u001b[95mcollections\u001b[0m\n",
      "\u001b[34mINFO    \u001b[0m Set \u001b[33mANSIBLE_ROLES_PATH\u001b[0m=\u001b[35m/Users/osmanjalloh/.cache/ansible-compat/7aa89a/\u001b[0m\u001b[95mroles\u001b[0m:\u001b[35m/Users/osmanjalloh/.ansible/\u001b[0m\u001b[95mroles\u001b[0m:\u001b[35m/usr/share/ansible/\u001b[0m\u001b[95mroles\u001b[0m:\u001b[35m/etc/ansible/\u001b[0m\u001b[95mroles\u001b[0m\n",
      "\u001b[34mINFO    \u001b[0m Using \u001b[35m/Users/osmanjalloh/.cache/ansible-compat/7aa89a/roles/\u001b[0m\u001b[95mjannahio.bootstrap\u001b[0m symlink to current repository in order to enable Ansible to find the role using its expected full name.\n",
      "\u001b[34mINFO    \u001b[0m Removing \u001b[35m/Users/osmanjalloh/.cache/molecule/jannahio.end2end/\u001b[0m\u001b[95mdefault\u001b[0m\n",
      "\u001b[34mINFO    \u001b[0m default scenario test matrix: dependency, cleanup, destroy\n",
      "\u001b[34mINFO    \u001b[0m Performing prerun with \u001b[33mrole_name_check\u001b[0m=\u001b[1;36m0\u001b[0m\u001b[33m...\u001b[0m\n",
      "\u001b[34mINFO    \u001b[0m Set \u001b[33mANSIBLE_LIBRARY\u001b[0m=\u001b[35m/Users/osmanjalloh/.cache/ansible-compat/7aa89a/\u001b[0m\u001b[95mmodules\u001b[0m:\u001b[35m/Users/osmanjalloh/.ansible/plugins/\u001b[0m\u001b[95mmodules\u001b[0m:\u001b[35m/usr/share/ansible/plugins/\u001b[0m\u001b[95mmodules\u001b[0m\n",
      "\u001b[34mINFO    \u001b[0m Set \u001b[33mANSIBLE_COLLECTIONS_PATH\u001b[0m=\u001b[35m/Users/osmanjalloh/.cache/ansible-compat/7aa89a/\u001b[0m\u001b[95mcollections\u001b[0m:\u001b[35m/Users/osmanjalloh/.ansible/\u001b[0m\u001b[95mcollections\u001b[0m:\u001b[35m/usr/share/ansible/\u001b[0m\u001b[95mcollections\u001b[0m\n",
      "\u001b[34mINFO    \u001b[0m Set \u001b[33mANSIBLE_ROLES_PATH\u001b[0m=\u001b[35m/Users/osmanjalloh/.cache/ansible-compat/7aa89a/\u001b[0m\u001b[95mroles\u001b[0m:\u001b[35m/Users/osmanjalloh/.ansible/\u001b[0m\u001b[95mroles\u001b[0m:\u001b[35m/usr/share/ansible/\u001b[0m\u001b[95mroles\u001b[0m:\u001b[35m/etc/ansible/\u001b[0m\u001b[95mroles\u001b[0m\n",
      "\u001b[34mINFO    \u001b[0m Using \u001b[35m/Users/osmanjalloh/.cache/ansible-compat/7aa89a/roles/\u001b[0m\u001b[95mjannahio.bootstrap\u001b[0m symlink to current repository in order to enable Ansible to find the role using its expected full name.\n",
      "\u001b[34mINFO    \u001b[0m \u001b[2;36mRunning \u001b[0m\u001b[2;32mdefault\u001b[0m\u001b[2;36m > \u001b[0m\u001b[2;32mdependency\u001b[0m\n",
      "\u001b[34mINFO    \u001b[0m Dependency completed successfully.\n",
      "\u001b[34mINFO    \u001b[0m Dependency completed successfully.\n",
      "\u001b[34mINFO    \u001b[0m \u001b[2;36mRunning \u001b[0m\u001b[2;32mdefault\u001b[0m\u001b[2;36m > \u001b[0m\u001b[2;32mcleanup\u001b[0m\n",
      "^C\n"
     ]
    }
   ],
   "source": [
    "!run_tag=\"10-25-2023.run-7.log\"\n",
    "!make deploy-to-kind-cluster-full-ubuntu-dev-mode > ~/jannah-operator/deploy-to-kind-cluster-full-ubuntu-dev-mode.10-25-2023.run-7.log"
   ]
  },
  {
   "cell_type": "code",
   "execution_count": null,
   "id": "eb54e484",
   "metadata": {},
   "outputs": [],
   "source": [
    "!# tail -f ~/jannah-operator/deploy-to-kind-cluster-full-ubuntu-dev-mode.$run_tag"
   ]
  },
  {
   "cell_type": "code",
   "execution_count": null,
   "id": "38e29a30",
   "metadata": {},
   "outputs": [],
   "source": [
    "!make deploy-to-kind-cluster-local-ubuntu-dev-mode > ~/jannah-operator/deploy-to-kind-cluster-local-ubuntu-dev-mode.$run_tag"
   ]
  },
  {
   "cell_type": "code",
   "execution_count": null,
   "id": "8d092f5a",
   "metadata": {},
   "outputs": [],
   "source": [
    "!# tail -f ~/jannah-operator/deploy-to-kind-cluster-local-ubuntu-dev-mode.$run_tag"
   ]
  },
  {
   "cell_type": "code",
   "execution_count": null,
   "id": "1f29314d",
   "metadata": {},
   "outputs": [],
   "source": [
    "!make deploy-to-kind-cluster-standalone-ubuntu-dev-mode > ~/jannah-operator/deploy-to-kind-cluster-standalone-ubuntu-dev-mode.$run_tag "
   ]
  },
  {
   "cell_type": "code",
   "execution_count": null,
   "id": "75461ae1",
   "metadata": {},
   "outputs": [],
   "source": [
    "!# tail -f ~/jannah-operator/deploy-to-kind-cluster-standalone-ubuntu-dev-mode.$run_tag"
   ]
  },
  {
   "cell_type": "markdown",
   "id": "e1bbd24c",
   "metadata": {},
   "source": [
    "Run Docker Desktop Matrix"
   ]
  },
  {
   "cell_type": "code",
   "execution_count": null,
   "id": "ae67ac15",
   "metadata": {},
   "outputs": [],
   "source": [
    "!make deploy-to-docker-desktop-full-ubuntu-dev-mode > ~/jannah-operator/deploy-to-docker-desktop-full-ubuntu-dev-mode.$run_tag "
   ]
  },
  {
   "cell_type": "code",
   "execution_count": null,
   "id": "53bc706c",
   "metadata": {},
   "outputs": [],
   "source": [
    "!# tail -f ~/jannah-operator/deploy-to-docker-desktop-full-ubuntu-dev-mode.$run_tag"
   ]
  },
  {
   "cell_type": "code",
   "execution_count": null,
   "id": "7110a720",
   "metadata": {},
   "outputs": [],
   "source": [
    "!make deploy-to-docker-desktop-local-ubuntu-dev-mode > ~/jannah-operator/deploy-to-docker-desktop-local-ubuntu-dev-mode.$run_tag "
   ]
  },
  {
   "cell_type": "code",
   "execution_count": null,
   "id": "ddb74fcf",
   "metadata": {},
   "outputs": [],
   "source": [
    "!# tail -f ~/jannah-operator/deploy-to-docker-desktop-local-ubuntu-dev-mode.$run_tag"
   ]
  },
  {
   "cell_type": "code",
   "execution_count": null,
   "id": "6f7b0454",
   "metadata": {},
   "outputs": [],
   "source": [
    "!make deploy-to-docker-desktop-standalone-ubuntu-dev-mode > ~/jannah-operator/deploy-to-docker-desktop-standalone-ubuntu-dev-mode.$run_tag "
   ]
  },
  {
   "cell_type": "code",
   "execution_count": null,
   "id": "0c6f01fb",
   "metadata": {},
   "outputs": [],
   "source": [
    "!# tail -f ~/jannah-operator/deploy-to-docker-desktop-standalone-ubuntu-dev-mode.$run_tag"
   ]
  }
 ],
 "metadata": {
  "kernelspec": {
   "display_name": "Python 3 (ipykernel)",
   "language": "python",
   "name": "python3"
  },
  "language_info": {
   "codemirror_mode": {
    "name": "ipython",
    "version": 3
   },
   "file_extension": ".py",
   "mimetype": "text/x-python",
   "name": "python",
   "nbconvert_exporter": "python",
   "pygments_lexer": "ipython3",
   "version": "3.11.3"
  }
 },
 "nbformat": 4,
 "nbformat_minor": 5
}
