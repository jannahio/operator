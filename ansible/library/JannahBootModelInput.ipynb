{
 "cells": [
  {
   "cell_type": "markdown",
   "id": "e69942bf-903b-4bdd-8382-5c87631d1aaa",
   "metadata": {
    "editable": true,
    "slideshow": {
     "slide_type": ""
    },
    "tags": []
   },
   "source": [
    "Predict the score (pass/fail) for a Jannah.io Boot Deployment Using Log Files"
   ]
  },
  {
   "cell_type": "code",
   "execution_count": 5,
   "id": "42220cc9-aee2-4854-9de9-56111604c10a",
   "metadata": {
    "editable": true,
    "slideshow": {
     "slide_type": ""
    },
    "tags": []
   },
   "outputs": [],
   "source": [
    "import collections\n",
    "import pathlib\n",
    "import random\n",
    "\n",
    "import matplotlib.pyplot as plt\n",
    "import tensorflow as tf\n",
    "\n",
    "from tensorflow.keras import layers\n",
    "from tensorflow.keras import losses\n",
    "from tensorflow.keras import utils\n",
    "from tensorflow.keras.layers import TextVectorization\n",
    "\n",
    "import tensorflow_datasets as tfds\n",
    "import tensorflow_text as tf_text"
   ]
  },
  {
   "cell_type": "code",
   "execution_count": null,
   "id": "bd0f837d-eb93-4597-8253-abaffefcff5b",
   "metadata": {
    "editable": true,
    "slideshow": {
     "slide_type": ""
    },
    "tags": []
   },
   "outputs": [],
   "source": [
    "#papermill_description=Determine_Directory_Paths_For_Sorting_Log_Files\n",
    "Jannah_Config = provisioner[\"inventory\"][\"group_vars\"][\"all\"][\"Jannah\"]\n",
    "MOLECULE_EPHEMERAL_DIRECTORY = provisioner[\"env\"][\"MOLECULE_EPHEMERAL_DIRECTORY\"]\n",
    "Logs_input = f\"{MOLECULE_EPHEMERAL_DIRECTORY}/logs\"\n",
    "Logs_train_input = f\"{Logs_input}/train\"\n",
    "Logs_test_input = f\"{Logs_input}/test\"\n",
    "Logs_train_input_pass_deployment = f\"{Logs_train_input}/pass\"\n",
    "Logs_train_input_fail_deployment = f\"{Logs_train_input}/fail\"\n",
    "Logs_test_input_pass_deployment = f\"{Logs_test_input}/pass\"\n",
    "Logs_test_input_fail_deployment = f\"{Logs_test_input}/fail\"\n",
    "sorted_deployment_log_paths = {\n",
    "    \"train\": {\n",
    "                \"pass\": Logs_train_input_pass_deployment,\n",
    "                \"fail\": Logs_train_input_fail_deployment\n",
    "    },\n",
    "    \"test\": {\n",
    "            \"pass\": Logs_test_input_pass_deployment,\n",
    "            \"fail\": Logs_test_input_fail_deployment\n",
    "    }\n",
    "}"
   ]
  },
  {
   "cell_type": "code",
   "execution_count": null,
   "metadata": {},
   "outputs": [],
   "source": [
    "#papermill_description=Create_Directories_For_Sorting_Log_Files\n",
    "!mkdir -vp $Logs_train_input_pass_deployment/\n",
    "!mkdir -vp $Logs_train_input_fail_deployment/\n",
    "!mkdir -vp $Logs_test_input_pass_deployment/\n",
    "!mkdir -vp $Logs_test_input_fail_deployment"
   ]
  },
  {
   "cell_type": "code",
   "execution_count": null,
   "metadata": {},
   "outputs": [],
   "source": [
    "#papermill_description=Copy_Log_Files_For_Processing\n",
    "!cp -rp ~/jannah-operator/*.log $Logs_input/"
   ]
  },
  {
   "cell_type": "code",
   "execution_count": null,
   "id": "5745fb9e-1752-4a16-8cb5-afdb9c0201ec",
   "metadata": {
    "editable": true,
    "slideshow": {
     "slide_type": ""
    },
    "tags": []
   },
   "outputs": [],
   "source": [
    "#papermill_description=Glob_Log_Files\n",
    "log_files  = pathlib.Path(Logs_input).glob(\"*.log\")"
   ]
  },
  {
   "cell_type": "code",
   "execution_count": null,
   "metadata": {},
   "outputs": [],
   "source": [
    "#TODO: Note: To increase the difficulty of the classification problem, th replaced occurrences of the phrases \"All assertions passed\", \"Assertion failed\" from buffer\n",
    "#      and write buffer back to file."
   ]
  },
  {
   "cell_type": "code",
   "execution_count": null,
   "metadata": {},
   "outputs": [],
   "source": [
    "#papermill_description=Determine_Pass_or_Fail_Status_For_Each_Deployment_File\n",
    "_FILE_BUF = \"\"\n",
    "pass_deployments = []\n",
    "failed_deployments = []\n",
    "for _file in sorted((log_files)):\n",
    "    with _file.open() as fd:\n",
    "        _FILE_BUF = fd.read()\n",
    "        if \"All assertions passed\" in _FILE_BUF and \"Assertion failed\" not in _FILE_BUF:\n",
    "            pass_deployments.append(_file)\n",
    "        else:\n",
    "            failed_deployments.append(_file)"
   ]
  },
  {
   "cell_type": "code",
   "execution_count": null,
   "metadata": {},
   "outputs": [],
   "source": [
    "#papermill_description=Print_Pass_Deployment_Counts\n",
    "len(pass_deployments)"
   ]
  },
  {
   "cell_type": "code",
   "execution_count": null,
   "metadata": {},
   "outputs": [],
   "source": [
    "#papermill_description=Print_Failed_Deployment_Counts\n",
    "len(failed_deployments)"
   ]
  },
  {
   "cell_type": "code",
   "execution_count": null,
   "metadata": {},
   "outputs": [],
   "source": [
    "#papermill_description=Sort_Pass_Deployments_Into_Train_or_Test_Directories\n",
    "import random\n",
    "for _file in pass_deployments:\n",
    "    train_or_test_group = random.choices(population=['train','test'], weights=[80,20]).pop()\n",
    "    _new_file_name = _file.name.replace(\".log\",\".txt\")\n",
    "    _new_file = f\"{sorted_deployment_log_paths[train_or_test_group]['pass']}/{_new_file_name}\"\n",
    "    _file.rename(_new_file)"
   ]
  },
  {
   "cell_type": "code",
   "execution_count": null,
   "metadata": {},
   "outputs": [],
   "source": [
    "#papermill_description=Sort_Fail_Deployments_Into_Train_or_Test_Directories\n",
    "import random\n",
    "for _file in failed_deployments:\n",
    "    train_or_test_group = random.choices(population=['train','test'], weights=[80,20]).pop()\n",
    "    _new_file_name = _file.name.replace(\".log\",\".txt\")\n",
    "    _new_file = f\"{sorted_deployment_log_paths[train_or_test_group]['fail']}/{_new_file_name}\"\n",
    "    _file.rename(_new_file)"
   ]
  },
  {
   "cell_type": "code",
   "execution_count": null,
   "metadata": {},
   "outputs": [],
   "source": [
    "#papermill_description=Text_Dataset_From_Directory\n",
    "train_dir=Logs_train_input\n",
    "batch_size = 32\n",
    "seed = 80\n",
    "\n",
    "raw_train_ds = utils.text_dataset_from_directory(\n",
    "    train_dir,\n",
    "    batch_size=batch_size,\n",
    "    validation_split=0.2,\n",
    "    subset='training',\n",
    "    seed=seed)"
   ]
  },
  {
   "cell_type": "code",
   "execution_count": null,
   "metadata": {},
   "outputs": [],
   "source": [
    "#papermill_description=Print_a_Sample_Line\n",
    "for text_batch, label_batch in raw_train_ds.take(1):\n",
    "  for i in range(10):\n",
    "    print(\"Log Line: \", text_batch.numpy()[i])\n",
    "    print(\"Label:\", label_batch.numpy()[i])"
   ]
  },
  {
   "cell_type": "code",
   "execution_count": null,
   "metadata": {},
   "outputs": [],
   "source": [
    "#papermill_description=Print_the_Labels\n",
    "for i, label in enumerate(raw_train_ds.class_names):\n",
    "  print(\"Label\", i, \"corresponds to\", label)"
   ]
  },
  {
   "cell_type": "code",
   "execution_count": null,
   "metadata": {},
   "outputs": [],
   "source": [
    "#papermill_description=Create_a_validation_set.\n",
    "raw_val_ds = utils.text_dataset_from_directory(\n",
    "    train_dir,\n",
    "    batch_size=batch_size,\n",
    "    validation_split=0.2,\n",
    "    subset='validation',\n",
    "    seed=seed)"
   ]
  },
  {
   "cell_type": "code",
   "execution_count": null,
   "metadata": {},
   "outputs": [],
   "source": [
    "#papermill_description=Create_a_test_set\n",
    "test_dir = Logs_test_input\n",
    "raw_test_ds = utils.text_dataset_from_directory(\n",
    "    test_dir,\n",
    "    batch_size=batch_size)"
   ]
  },
  {
   "cell_type": "code",
   "execution_count": null,
   "metadata": {},
   "outputs": [],
   "source": [
    "#papermill_description=Configure_the_datasets_for_performance\n",
    "raw_train_ds = raw_train_ds.cache().prefetch(buffer_size=tf.data.AUTOTUNE)\n",
    "raw_val_ds = raw_val_ds.cache().prefetch(buffer_size=tf.data.AUTOTUNE)\n",
    "raw_test_ds = raw_test_ds.prefetch(buffer_size=tf.data.AUTOTUNE)"
   ]
  }
 ],
 "metadata": {
  "kernelspec": {
   "display_name": "Python 3 (ipykernel)",
   "language": "python",
   "name": "python3"
  },
  "language_info": {
   "codemirror_mode": {
    "name": "ipython",
    "version": 3
   },
   "file_extension": ".py",
   "mimetype": "text/x-python",
   "name": "python",
   "nbconvert_exporter": "python",
   "pygments_lexer": "ipython3",
   "version": "3.11.3"
  }
 },
 "nbformat": 4,
 "nbformat_minor": 5
}
